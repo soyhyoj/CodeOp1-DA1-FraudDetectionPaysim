{
 "cells": [
  {
   "cell_type": "markdown",
   "metadata": {},
   "source": [
    "# Fraud Detection Using Synthetic Financial Datasets\n",
    "\n",
    "PaySim is a financial mobile money simulator devised for fraud detection. It is based on a sample of real transactions extracted from one month of financial logs from a mobile money service implemented in an African country.\n",
    "\n",
    "Using this synthetic dataset, we aim to better understand the features related to mobile money transaction and enhance the accuracy of fraud detection by implementing different ML models.\n",
    "\n",
    "Data available at [kaggle](https://www.kaggle.com/ntnu-testimon/paysim1)."
   ]
  },
  {
   "cell_type": "code",
   "execution_count": 1,
   "metadata": {},
   "outputs": [],
   "source": [
    "import numpy as np\n",
    "import pandas as pd\n",
    "from matplotlib import pyplot as plt\n",
    "import seaborn as sns\n",
    "sns.set()\n",
    "sns.set_context(rc = {'patch.linewidth': 0.0})\n",
    "sns.set_palette('Set2')\n",
    "\n",
    "SMALL_SIZE = 10\n",
    "MEDIUM_SIZE = SMALL_SIZE + 3\n",
    "\n",
    "plt.rc('font', size=SMALL_SIZE)          # controls default text sizes\\n\",\n",
    "plt.rc('axes', titlesize=MEDIUM_SIZE)     # fontsize of the axes title\\n\",\n",
    "plt.rc('axes', labelsize=SMALL_SIZE)    # fontsize of the x and y labels\\n\",\n",
    "plt.rc('xtick', labelsize=SMALL_SIZE)    # fontsize of the tick labels\\n\",\n",
    "plt.rc('ytick', labelsize=SMALL_SIZE)    # fontsize of the tick labels\\n\",\n",
    "plt.rc('legend', fontsize=SMALL_SIZE)    # legend fontsize\\n\",\n",
    "plt.rc('figure', titlesize=SMALL_SIZE)  # fontsize of the figure title\\n\",\n",
    "plt.rc('figure', dpi=120)"
   ]
  },
  {
   "cell_type": "code",
   "execution_count": 2,
   "metadata": {
    "tags": []
   },
   "outputs": [
    {
     "name": "stdout",
     "output_type": "stream",
     "text": [
      "(6362620, 11)\n"
     ]
    },
    {
     "data": {
      "text/html": [
       "<div>\n",
       "<style scoped>\n",
       "    .dataframe tbody tr th:only-of-type {\n",
       "        vertical-align: middle;\n",
       "    }\n",
       "\n",
       "    .dataframe tbody tr th {\n",
       "        vertical-align: top;\n",
       "    }\n",
       "\n",
       "    .dataframe thead th {\n",
       "        text-align: right;\n",
       "    }\n",
       "</style>\n",
       "<table border=\"1\" class=\"dataframe\">\n",
       "  <thead>\n",
       "    <tr style=\"text-align: right;\">\n",
       "      <th></th>\n",
       "      <th>step</th>\n",
       "      <th>type</th>\n",
       "      <th>amount</th>\n",
       "      <th>nameOrig</th>\n",
       "      <th>oldbalanceOrg</th>\n",
       "      <th>newbalanceOrig</th>\n",
       "      <th>nameDest</th>\n",
       "      <th>oldbalanceDest</th>\n",
       "      <th>newbalanceDest</th>\n",
       "      <th>isFraud</th>\n",
       "      <th>isFlaggedFraud</th>\n",
       "    </tr>\n",
       "  </thead>\n",
       "  <tbody>\n",
       "    <tr>\n",
       "      <th>0</th>\n",
       "      <td>1</td>\n",
       "      <td>PAYMENT</td>\n",
       "      <td>9839.64</td>\n",
       "      <td>C1231006815</td>\n",
       "      <td>170136.0</td>\n",
       "      <td>160296.36</td>\n",
       "      <td>M1979787155</td>\n",
       "      <td>0.0</td>\n",
       "      <td>0.0</td>\n",
       "      <td>0</td>\n",
       "      <td>0</td>\n",
       "    </tr>\n",
       "    <tr>\n",
       "      <th>1</th>\n",
       "      <td>1</td>\n",
       "      <td>PAYMENT</td>\n",
       "      <td>1864.28</td>\n",
       "      <td>C1666544295</td>\n",
       "      <td>21249.0</td>\n",
       "      <td>19384.72</td>\n",
       "      <td>M2044282225</td>\n",
       "      <td>0.0</td>\n",
       "      <td>0.0</td>\n",
       "      <td>0</td>\n",
       "      <td>0</td>\n",
       "    </tr>\n",
       "    <tr>\n",
       "      <th>2</th>\n",
       "      <td>1</td>\n",
       "      <td>TRANSFER</td>\n",
       "      <td>181.00</td>\n",
       "      <td>C1305486145</td>\n",
       "      <td>181.0</td>\n",
       "      <td>0.00</td>\n",
       "      <td>C553264065</td>\n",
       "      <td>0.0</td>\n",
       "      <td>0.0</td>\n",
       "      <td>1</td>\n",
       "      <td>0</td>\n",
       "    </tr>\n",
       "    <tr>\n",
       "      <th>3</th>\n",
       "      <td>1</td>\n",
       "      <td>CASH_OUT</td>\n",
       "      <td>181.00</td>\n",
       "      <td>C840083671</td>\n",
       "      <td>181.0</td>\n",
       "      <td>0.00</td>\n",
       "      <td>C38997010</td>\n",
       "      <td>21182.0</td>\n",
       "      <td>0.0</td>\n",
       "      <td>1</td>\n",
       "      <td>0</td>\n",
       "    </tr>\n",
       "    <tr>\n",
       "      <th>4</th>\n",
       "      <td>1</td>\n",
       "      <td>PAYMENT</td>\n",
       "      <td>11668.14</td>\n",
       "      <td>C2048537720</td>\n",
       "      <td>41554.0</td>\n",
       "      <td>29885.86</td>\n",
       "      <td>M1230701703</td>\n",
       "      <td>0.0</td>\n",
       "      <td>0.0</td>\n",
       "      <td>0</td>\n",
       "      <td>0</td>\n",
       "    </tr>\n",
       "  </tbody>\n",
       "</table>\n",
       "</div>"
      ],
      "text/plain": [
       "   step      type    amount     nameOrig  oldbalanceOrg  newbalanceOrig  \\\n",
       "0     1   PAYMENT   9839.64  C1231006815       170136.0       160296.36   \n",
       "1     1   PAYMENT   1864.28  C1666544295        21249.0        19384.72   \n",
       "2     1  TRANSFER    181.00  C1305486145          181.0            0.00   \n",
       "3     1  CASH_OUT    181.00   C840083671          181.0            0.00   \n",
       "4     1   PAYMENT  11668.14  C2048537720        41554.0        29885.86   \n",
       "\n",
       "      nameDest  oldbalanceDest  newbalanceDest  isFraud  isFlaggedFraud  \n",
       "0  M1979787155             0.0             0.0        0               0  \n",
       "1  M2044282225             0.0             0.0        0               0  \n",
       "2   C553264065             0.0             0.0        1               0  \n",
       "3    C38997010         21182.0             0.0        1               0  \n",
       "4  M1230701703             0.0             0.0        0               0  "
      ]
     },
     "execution_count": 2,
     "metadata": {},
     "output_type": "execute_result"
    }
   ],
   "source": [
    "paysim = pd.read_csv('../data/paysimdata.csv')\n",
    "print(paysim.shape)\n",
    "paysim.head()"
   ]
  },
  {
   "cell_type": "markdown",
   "metadata": {
    "tags": []
   },
   "source": [
    "### Fields information\n",
    "\n",
    "* step - integer - maps a unit of time in the real world. In this case 1 step is 1 hour of time. Total steps 744 (30 days simulation).\n",
    "\n",
    "* type - string/categorical - type of transaction: CASH-IN, CASH-OUT, DEBIT, PAYMENT and TRANSFER.\n",
    "\n",
    "* amount - float - amount of the transaction in local currency.\n",
    "\n",
    "* nameOrig - string - customer who initiated the transaction\n",
    "\n",
    "* oldbalanceOrg - float initial balance before the transaction\n",
    "\n",
    "* newbalanceOrig - float - new balance after the transaction\n",
    "\n",
    "* nameDest - string - customer who is the recipient of the transaction\n",
    "\n",
    "* oldbalanceDest - float - initial balance of recipient before the transaction.\n",
    "\n",
    "* newbalanceDest - float - new balance of recipient after the transaction.\n",
    "\n",
    "* isFraud - boolean/binary - tells if transaction is fraudulent (encoded as 1) or valid (encoded as 0)\n",
    "\n",
    "* isFlaggedFraud - boolean/binary - tells if transaction is flagged as fraudulent (encoded as 1) or not flagged at all (encoded as 0). An observation is flagged if the transaction is fraudulent and it involved a transfer of over 200,000 in the local currency."
   ]
  },
  {
   "cell_type": "markdown",
   "metadata": {},
   "source": [
    "# 1. EDA"
   ]
  },
  {
   "cell_type": "code",
   "execution_count": 3,
   "metadata": {},
   "outputs": [
    {
     "data": {
      "text/html": [
       "<div>\n",
       "<style scoped>\n",
       "    .dataframe tbody tr th:only-of-type {\n",
       "        vertical-align: middle;\n",
       "    }\n",
       "\n",
       "    .dataframe tbody tr th {\n",
       "        vertical-align: top;\n",
       "    }\n",
       "\n",
       "    .dataframe thead th {\n",
       "        text-align: right;\n",
       "    }\n",
       "</style>\n",
       "<table border=\"1\" class=\"dataframe\">\n",
       "  <thead>\n",
       "    <tr style=\"text-align: right;\">\n",
       "      <th></th>\n",
       "      <th>step</th>\n",
       "      <th>amount</th>\n",
       "      <th>oldbalanceOrg</th>\n",
       "      <th>newbalanceOrig</th>\n",
       "      <th>oldbalanceDest</th>\n",
       "      <th>newbalanceDest</th>\n",
       "      <th>isFraud</th>\n",
       "      <th>isFlaggedFraud</th>\n",
       "    </tr>\n",
       "  </thead>\n",
       "  <tbody>\n",
       "    <tr>\n",
       "      <th>count</th>\n",
       "      <td>6.362620e+06</td>\n",
       "      <td>6.362620e+06</td>\n",
       "      <td>6.362620e+06</td>\n",
       "      <td>6.362620e+06</td>\n",
       "      <td>6.362620e+06</td>\n",
       "      <td>6.362620e+06</td>\n",
       "      <td>6.362620e+06</td>\n",
       "      <td>6.362620e+06</td>\n",
       "    </tr>\n",
       "    <tr>\n",
       "      <th>mean</th>\n",
       "      <td>2.433972e+02</td>\n",
       "      <td>1.798619e+05</td>\n",
       "      <td>8.338831e+05</td>\n",
       "      <td>8.551137e+05</td>\n",
       "      <td>1.100702e+06</td>\n",
       "      <td>1.224996e+06</td>\n",
       "      <td>1.290820e-03</td>\n",
       "      <td>2.514687e-06</td>\n",
       "    </tr>\n",
       "    <tr>\n",
       "      <th>std</th>\n",
       "      <td>1.423320e+02</td>\n",
       "      <td>6.038582e+05</td>\n",
       "      <td>2.888243e+06</td>\n",
       "      <td>2.924049e+06</td>\n",
       "      <td>3.399180e+06</td>\n",
       "      <td>3.674129e+06</td>\n",
       "      <td>3.590480e-02</td>\n",
       "      <td>1.585775e-03</td>\n",
       "    </tr>\n",
       "    <tr>\n",
       "      <th>min</th>\n",
       "      <td>1.000000e+00</td>\n",
       "      <td>0.000000e+00</td>\n",
       "      <td>0.000000e+00</td>\n",
       "      <td>0.000000e+00</td>\n",
       "      <td>0.000000e+00</td>\n",
       "      <td>0.000000e+00</td>\n",
       "      <td>0.000000e+00</td>\n",
       "      <td>0.000000e+00</td>\n",
       "    </tr>\n",
       "    <tr>\n",
       "      <th>25%</th>\n",
       "      <td>1.560000e+02</td>\n",
       "      <td>1.338957e+04</td>\n",
       "      <td>0.000000e+00</td>\n",
       "      <td>0.000000e+00</td>\n",
       "      <td>0.000000e+00</td>\n",
       "      <td>0.000000e+00</td>\n",
       "      <td>0.000000e+00</td>\n",
       "      <td>0.000000e+00</td>\n",
       "    </tr>\n",
       "    <tr>\n",
       "      <th>50%</th>\n",
       "      <td>2.390000e+02</td>\n",
       "      <td>7.487194e+04</td>\n",
       "      <td>1.420800e+04</td>\n",
       "      <td>0.000000e+00</td>\n",
       "      <td>1.327057e+05</td>\n",
       "      <td>2.146614e+05</td>\n",
       "      <td>0.000000e+00</td>\n",
       "      <td>0.000000e+00</td>\n",
       "    </tr>\n",
       "    <tr>\n",
       "      <th>75%</th>\n",
       "      <td>3.350000e+02</td>\n",
       "      <td>2.087215e+05</td>\n",
       "      <td>1.073152e+05</td>\n",
       "      <td>1.442584e+05</td>\n",
       "      <td>9.430367e+05</td>\n",
       "      <td>1.111909e+06</td>\n",
       "      <td>0.000000e+00</td>\n",
       "      <td>0.000000e+00</td>\n",
       "    </tr>\n",
       "    <tr>\n",
       "      <th>max</th>\n",
       "      <td>7.430000e+02</td>\n",
       "      <td>9.244552e+07</td>\n",
       "      <td>5.958504e+07</td>\n",
       "      <td>4.958504e+07</td>\n",
       "      <td>3.560159e+08</td>\n",
       "      <td>3.561793e+08</td>\n",
       "      <td>1.000000e+00</td>\n",
       "      <td>1.000000e+00</td>\n",
       "    </tr>\n",
       "  </tbody>\n",
       "</table>\n",
       "</div>"
      ],
      "text/plain": [
       "               step        amount  oldbalanceOrg  newbalanceOrig  \\\n",
       "count  6.362620e+06  6.362620e+06   6.362620e+06    6.362620e+06   \n",
       "mean   2.433972e+02  1.798619e+05   8.338831e+05    8.551137e+05   \n",
       "std    1.423320e+02  6.038582e+05   2.888243e+06    2.924049e+06   \n",
       "min    1.000000e+00  0.000000e+00   0.000000e+00    0.000000e+00   \n",
       "25%    1.560000e+02  1.338957e+04   0.000000e+00    0.000000e+00   \n",
       "50%    2.390000e+02  7.487194e+04   1.420800e+04    0.000000e+00   \n",
       "75%    3.350000e+02  2.087215e+05   1.073152e+05    1.442584e+05   \n",
       "max    7.430000e+02  9.244552e+07   5.958504e+07    4.958504e+07   \n",
       "\n",
       "       oldbalanceDest  newbalanceDest       isFraud  isFlaggedFraud  \n",
       "count    6.362620e+06    6.362620e+06  6.362620e+06    6.362620e+06  \n",
       "mean     1.100702e+06    1.224996e+06  1.290820e-03    2.514687e-06  \n",
       "std      3.399180e+06    3.674129e+06  3.590480e-02    1.585775e-03  \n",
       "min      0.000000e+00    0.000000e+00  0.000000e+00    0.000000e+00  \n",
       "25%      0.000000e+00    0.000000e+00  0.000000e+00    0.000000e+00  \n",
       "50%      1.327057e+05    2.146614e+05  0.000000e+00    0.000000e+00  \n",
       "75%      9.430367e+05    1.111909e+06  0.000000e+00    0.000000e+00  \n",
       "max      3.560159e+08    3.561793e+08  1.000000e+00    1.000000e+00  "
      ]
     },
     "execution_count": 3,
     "metadata": {},
     "output_type": "execute_result"
    }
   ],
   "source": [
    "# Summary statistics\n",
    "paysim.describe()"
   ]
  },
  {
   "cell_type": "code",
   "execution_count": 4,
   "metadata": {},
   "outputs": [
    {
     "data": {
      "text/plain": [
       "0"
      ]
     },
     "execution_count": 4,
     "metadata": {},
     "output_type": "execute_result"
    }
   ],
   "source": [
    "#Check if there are any missing values\n",
    "paysim.isnull().values.sum()"
   ]
  },
  {
   "cell_type": "code",
   "execution_count": 5,
   "metadata": {},
   "outputs": [],
   "source": [
    "# Select only numerics columns to plot their distributions\n",
    "paysim_numeric = paysim._get_numeric_data()\n",
    "columns_to_plot = [col for col in paysim_numeric.columns if col not in ['isFraud', 'isFlagedFraud']]"
   ]
  },
  {
   "cell_type": "code",
   "execution_count": 6,
   "metadata": {
    "scrolled": false
   },
   "outputs": [
    {
     "data": {
      "image/png": "[encoded data removed]",
      "text/plain": [
       "<Figure size 864x864 with 9 Axes>"
      ]
     },
     "metadata": {
      "needs_background": "light"
     },
     "output_type": "display_data"
    }
   ],
   "source": [
    "# Plot distribution of numeric variables\n",
    "# Show and save the plot\n",
    "paysim_numeric.hist(figsize=(12,12))\n",
    "fig1 = plt.gcf()\n",
    "plt.show()\n",
    "fig1.savefig('./Fig1.png', dpi=240)"
   ]
  },
  {
   "cell_type": "code",
   "execution_count": 7,
   "metadata": {},
   "outputs": [
    {
     "data": {
      "text/plain": [
       "isFraud           1.000000\n",
       "amount            0.076688\n",
       "isFlaggedFraud    0.044109\n",
       "step              0.031578\n",
       "oldbalanceOrg     0.010154\n",
       "newbalanceDest    0.000535\n",
       "oldbalanceDest   -0.005885\n",
       "newbalanceOrig   -0.008148\n",
       "Name: isFraud, dtype: float64"
      ]
     },
     "execution_count": 7,
     "metadata": {},
     "output_type": "execute_result"
    }
   ],
   "source": [
    "paysim.corr()['isFraud'].sort_values(ascending=False)"
   ]
  },
  {
   "cell_type": "code",
   "execution_count": 8,
   "metadata": {
    "scrolled": false
   },
   "outputs": [
    {
     "name": "stdout",
     "output_type": "stream",
     "text": [
      "Raw counts of isFraud: \n",
      "0    6354407\n",
      "1       8213\n",
      "Name: isFraud, dtype: int64\n",
      "------------------------------\n",
      "Normalized counts of isFraud: \n",
      "0    0.998709\n",
      "1    0.001291\n",
      "Name: isFraud, dtype: float64\n",
      "------------------------------\n",
      "Normalized counts of isFlaggedFraud: \n",
      "0    0.999997\n",
      "1    0.000003\n",
      "Name: isFlaggedFraud, dtype: float64\n"
     ]
    }
   ],
   "source": [
    "# Let's look at how many fraudulent transactions(= our target) are there \n",
    "# And compare if they were flagged as fraud or not\n",
    "\n",
    "# Count 'isFraud'\n",
    "counted_frauds = paysim['isFraud'].value_counts()\n",
    "print('Raw counts of isFraud: ')\n",
    "print(counted_frauds)\n",
    "print('-'*30)\n",
    "# Normalize the 'isFraud' counts (=proportion of each label)\n",
    "normalized_frauds = paysim['isFraud'].value_counts(normalize=True)\n",
    "print('Normalized counts of isFraud: ')\n",
    "print(normalized_frauds)\n",
    "print('-'*30)\n",
    "# Normalize the 'isFlaggedFraud' counts\n",
    "normalized_flag = paysim['isFlaggedFraud'].value_counts(normalize=True)\n",
    "print('Normalized counts of isFlaggedFraud: ')\n",
    "print(normalized_flag)"
   ]
  },
  {
   "cell_type": "code",
   "execution_count": 9,
   "metadata": {
    "scrolled": false
   },
   "outputs": [
    {
     "data": {
      "image/png": "[encoded data removed]",
      "text/plain": [
       "<Figure size 432x288 with 2 Axes>"
      ]
     },
     "metadata": {
      "needs_background": "light"
     },
     "output_type": "display_data"
    }
   ],
   "source": [
    "# Plot counted values of isFraud and isFlaggedFraud\n",
    "\n",
    "fig2, ax = plt.subplots(1, 2)\n",
    "plt.subplots_adjust(wspace=.5)\n",
    "\n",
    "ax0 = sns.barplot(x=['No', 'Yes'],\n",
    "                  y=normalized_frauds,\n",
    "                  data=paysim,\n",
    "                  palette='husl',\n",
    "                  ax=ax[0])\n",
    "ax1 = sns.barplot(x=['No', 'Yes'],\n",
    "                  y=normalized_flag,\n",
    "                  data=paysim,\n",
    "                  palette='husl',\n",
    "                  ax=ax[1])\n",
    "\n",
    "\n",
    "# Show and save the plot\n",
    "plt.show()\n",
    "fig2.savefig('./Fig2.png', dpi=240)"
   ]
  },
  {
   "cell_type": "code",
   "execution_count": 10,
   "metadata": {},
   "outputs": [],
   "source": [
    "# Let's check TP, FP, TN, FN: proportion of each, how transactions look like in each case\n",
    "\n",
    "is_fraud = paysim['isFraud']==1\n",
    "is_flagged = paysim['isFlaggedFraud']==1\n",
    "\n",
    "true_positive = paysim[is_fraud & is_flagged]\n",
    "false_positive = paysim[~is_fraud & is_flagged]\n",
    "true_negative = paysim[~is_fraud & ~is_flagged]\n",
    "false_negative = paysim[is_fraud & ~is_flagged]"
   ]
  },
  {
   "cell_type": "code",
   "execution_count": 11,
   "metadata": {
    "tags": []
   },
   "outputs": [
    {
     "name": "stdout",
     "output_type": "stream",
     "text": [
      "(16, 11)\n",
      "(0, 11)\n",
      "(6354407, 11)\n",
      "(8197, 11)\n"
     ]
    }
   ],
   "source": [
    "print(true_positive.shape)\n",
    "print(false_positive.shape)\n",
    "print(true_negative.shape)\n",
    "print(false_negative.shape)"
   ]
  },
  {
   "cell_type": "markdown",
   "metadata": {},
   "source": [
    "NOTE:\n",
    "\n",
    "* There are no missing values\n",
    "* There are just over 6 million observations\n",
    "* There are 11 features\n",
    "* Most transactions involve amounts less than 1 million euros.\n",
    "* Most observations in the dataset are of valid transactions, so any patterns related to identifying fraud transactions may be hard to see, data is also unbalanced.\n",
    "* From the sample of observations, there are many instances where what happens to the recipient account (oldbalanceDest, newbalanceDest) does not make sense (e.g. the very first observation involved a payment of 9839.64 yet, the balance before and after the transaction equals 0.)\n",
    "* There are no false_positives\n",
    "* There are many false_negatives; detection failed"
   ]
  },
  {
   "cell_type": "code",
   "execution_count": 12,
   "metadata": {
    "tags": []
   },
   "outputs": [
    {
     "name": "stdout",
     "output_type": "stream",
     "text": [
      "CASH_OUT    0.35\n",
      "PAYMENT     0.34\n",
      "CASH_IN     0.22\n",
      "TRANSFER    0.08\n",
      "DEBIT       0.01\n",
      "Name: type, dtype: float64\n"
     ]
    },
    {
     "data": {
      "image/png": "[encoded data removed]",
      "text/plain": [
       "<Figure size 576x432 with 1 Axes>"
      ]
     },
     "metadata": {
      "needs_background": "light"
     },
     "output_type": "display_data"
    }
   ],
   "source": [
    "# Visualize different types of transactions\n",
    "fig3 = plt.gcf()\n",
    "print(round(paysim.type.value_counts(normalize=True),2))\n",
    "paysim.type.value_counts(normalize=True).plot(kind='bar',\n",
    "                                              figsize=(8,6),\n",
    "                                              width=.6,\n",
    "                                              color=sns.color_palette(\"OrRd\"))\n",
    "plt.xticks(rotation=0)\n",
    "plt.show()\n",
    "fig3.savefig('./Fig3.png', dpi=240)"
   ]
  },
  {
   "cell_type": "markdown",
   "metadata": {},
   "source": [
    "### When does fraud happens?\n",
    "Let's learn by studying different cases:\n",
    "True positive vs. False negative vs. True negative\n"
   ]
  },
  {
   "cell_type": "markdown",
   "metadata": {},
   "source": [
    "### 1-1. Take a look at the characteristics of the detected frauds (TP)"
   ]
  },
  {
   "cell_type": "code",
   "execution_count": 13,
   "metadata": {
    "tags": []
   },
   "outputs": [
    {
     "name": "stdout",
     "output_type": "stream",
     "text": [
      "Transaction type(s) detected in fraud cases: ['TRANSFER']\n"
     ]
    }
   ],
   "source": [
    "print(f'Transaction type(s) detected in fraud cases: {true_positive.type.unique()}')"
   ]
  },
  {
   "cell_type": "code",
   "execution_count": 14,
   "metadata": {},
   "outputs": [],
   "source": [
    "# A function to look for names appeared in any fraudulent transaction\n",
    "\n",
    "def get_names_with_false_amount(data):\n",
    "    Difference_Orig = data['oldbalanceOrg'] - data['newbalanceOrig']\n",
    "    Difference_Dest = data['oldbalanceDest'] - data['newbalanceDest']\n",
    "\n",
    "    # If transaction amount is not equal to the difference in balances of origin\n",
    "    suspicious_names = []\n",
    "    if (data['amount'] != Difference_Orig).any():\n",
    "        suspicious_names += [name for name in data.nameOrig if name not in suspicious_names]\n",
    "        suspicious_names += [name for name in data.nameDest if name not in suspicious_names]\n",
    "    print(f'Fraud alert!!!')\n",
    "    return list(set(suspicious_names))\n"
   ]
  },
  {
   "cell_type": "code",
   "execution_count": 15,
   "metadata": {
    "tags": []
   },
   "outputs": [
    {
     "name": "stdout",
     "output_type": "stream",
     "text": [
      "Fraud alert!!!\n"
     ]
    },
    {
     "data": {
      "text/plain": [
       "['C728984460',\n",
       " 'C1147517658',\n",
       " 'C1892216157',\n",
       " 'C193696150',\n",
       " 'C1392803603',\n",
       " 'C1308068787',\n",
       " 'C786455622',\n",
       " 'C917414431',\n",
       " 'C1100697970',\n",
       " 'C1806199534',\n",
       " 'C992223106',\n",
       " 'C1109166882',\n",
       " 'C689608084',\n",
       " 'C908544136',\n",
       " 'C1684585475',\n",
       " 'C19004745',\n",
       " 'C724693370',\n",
       " 'C452586515',\n",
       " 'C1100582606',\n",
       " 'C1861208726',\n",
       " 'C2140038573',\n",
       " 'C1909486199',\n",
       " 'C1770418982',\n",
       " 'C484597480',\n",
       " 'C1395467927',\n",
       " 'C1035541766',\n",
       " 'C1082139865',\n",
       " 'C1366804249',\n",
       " 'C1869569059',\n",
       " 'C661958277',\n",
       " 'C639921569',\n",
       " 'C891140444']"
      ]
     },
     "execution_count": 15,
     "metadata": {},
     "output_type": "execute_result"
    }
   ],
   "source": [
    "suspicious_names = get_names_with_false_amount(true_positive)\n",
    "suspicious_names"
   ]
  },
  {
   "cell_type": "code",
   "execution_count": 16,
   "metadata": {
    "tags": []
   },
   "outputs": [],
   "source": [
    "# A function to detect any transaction activities in which appeared these suspicious_names\n",
    "\n",
    "def suspicious_transactions_by_name(data, names_list):\n",
    "    suspicious_records = pd.DataFrame()\n",
    "    for name in names_list:\n",
    "        name_matched = data[(data['nameOrig']==name) | (data['nameDest']==name)]\n",
    "        if (name_matched['isFraud']==1).any():\n",
    "            suspicious_records = suspicious_records.append(name_matched)\n",
    "    return suspicious_records"
   ]
  },
  {
   "cell_type": "code",
   "execution_count": 17,
   "metadata": {
    "tags": []
   },
   "outputs": [
    {
     "name": "stdout",
     "output_type": "stream",
     "text": [
      "(0, 0)\n"
     ]
    },
    {
     "data": {
      "text/html": [
       "<div>\n",
       "<style scoped>\n",
       "    .dataframe tbody tr th:only-of-type {\n",
       "        vertical-align: middle;\n",
       "    }\n",
       "\n",
       "    .dataframe tbody tr th {\n",
       "        vertical-align: top;\n",
       "    }\n",
       "\n",
       "    .dataframe thead th {\n",
       "        text-align: right;\n",
       "    }\n",
       "</style>\n",
       "<table border=\"1\" class=\"dataframe\">\n",
       "  <thead>\n",
       "    <tr style=\"text-align: right;\">\n",
       "      <th></th>\n",
       "    </tr>\n",
       "  </thead>\n",
       "  <tbody>\n",
       "  </tbody>\n",
       "</table>\n",
       "</div>"
      ],
      "text/plain": [
       "Empty DataFrame\n",
       "Columns: []\n",
       "Index: []"
      ]
     },
     "execution_count": 17,
     "metadata": {},
     "output_type": "execute_result"
    }
   ],
   "source": [
    "# Did the names used in detected frauds used in other undetected frauds?\n",
    "\n",
    "suspicious_names_records = suspicious_transactions_by_name(false_negative, suspicious_names)\n",
    "print(suspicious_names_records.shape)\n",
    "suspicious_names_records"
   ]
  },
  {
   "cell_type": "markdown",
   "metadata": {},
   "source": [
    "No, the names detected in TPs were not used in other fraudulent transactions.<br>\n"
   ]
  },
  {
   "cell_type": "markdown",
   "metadata": {},
   "source": [
    "### 1-2.  Check the false negatives and figure out why they were not detected"
   ]
  },
  {
   "cell_type": "code",
   "execution_count": 18,
   "metadata": {
    "scrolled": false,
    "tags": []
   },
   "outputs": [
    {
     "name": "stdout",
     "output_type": "stream",
     "text": [
      "Typical transaction type(s) in flagged cases: ['TRANSFER' 'CASH_OUT']\n"
     ]
    },
    {
     "data": {
      "image/png": "[encoded data removed]",
      "text/plain": [
       "<Figure size 432x288 with 1 Axes>"
      ]
     },
     "metadata": {
      "needs_background": "light"
     },
     "output_type": "display_data"
    }
   ],
   "source": [
    "# What are the main transaction types of FNs?\n",
    "print(f'Typical transaction type(s) in flagged cases: {false_negative.type.unique()}')\n",
    "false_negative.type.value_counts().plot(kind='bar', color=sns.color_palette('OrRd',3), width=.6)\n",
    "\n",
    "fig4 = plt.gcf()\n",
    "plt.xticks(rotation=0)\n",
    "plt.show()\n",
    "fig4.savefig('./Fig4.png', dpi=240)"
   ]
  },
  {
   "cell_type": "markdown",
   "metadata": {},
   "source": [
    "It makes sense that the most of fraudulent actions are 'Transfer' or 'cash out', and not, for example, 'cash in'. Thus we can create a new column to flag when a transaction was either 'Transfer' or 'Cash out'"
   ]
  },
  {
   "cell_type": "markdown",
   "metadata": {},
   "source": [
    "# 2. Feature selection"
   ]
  },
  {
   "cell_type": "markdown",
   "metadata": {},
   "source": [
    "### 2-1. Balance-related columns\n",
    "\n",
    "Let's see if information on balances before & after transactions can be an indicator for a fraud behavior."
   ]
  },
  {
   "cell_type": "code",
   "execution_count": 19,
   "metadata": {},
   "outputs": [],
   "source": [
    "df_list = [true_positive, false_negative, true_negative]\n",
    "df_names = ['true_positive', 'false_negative', 'true_negative']\n",
    "balances = ['oldbalanceOrg', 'newbalanceOrig', 'oldbalanceDest', 'newbalanceDest']"
   ]
  },
  {
   "cell_type": "code",
   "execution_count": 20,
   "metadata": {},
   "outputs": [
    {
     "data": {
      "image/png": "[encoded data removed]",
      "text/plain": [
       "<Figure size 1080x1080 with 12 Axes>"
      ]
     },
     "metadata": {
      "needs_background": "light"
     },
     "output_type": "display_data"
    }
   ],
   "source": [
    "# Let's compare balance of customer and recipient before & after transaction\n",
    "# (TP vs. FN vs. TN)\n",
    "sns.set_context(rc = {'patch.linewidth': 0.2})\n",
    "sns.set_palette('GnBu_d')\n",
    "\n",
    "fig5, ax = plt.subplots(4, 3, figsize=(15,15))\n",
    "plt.subplots_adjust(hspace=.3, wspace=.3)\n",
    "\n",
    "for i, df in enumerate(df_list):\n",
    "    for j, balance in enumerate(balances):\n",
    "        g=df[balance].hist(alpha=.8, ax=ax[j, i%3])\n",
    "        g.set_title(df_names[i].upper()+'-'+balances[j])\n",
    "        \n",
    "plt.show()\n",
    "fig5.savefig('./Fig5.png', dpi=240)"
   ]
  },
  {
   "cell_type": "markdown",
   "metadata": {},
   "source": [
    "Note:<br>\n",
    "- Note that the y-axis are not uniform.\n",
    "- 'Balance' columns can be a confounding feature since false_negatives have similar distribution of the values with true_negatives, rather than with true positives.\n",
    "Therefore, these features can be excluded for the future modeling."
   ]
  },
  {
   "cell_type": "markdown",
   "metadata": {},
   "source": [
    "### 2-2. Transaction amount\n"
   ]
  },
  {
   "cell_type": "code",
   "execution_count": 21,
   "metadata": {},
   "outputs": [
    {
     "data": {
      "image/png": "[encoded data removed]",
      "text/plain": [
       "<Figure size 1080x360 with 3 Axes>"
      ]
     },
     "metadata": {
      "needs_background": "light"
     },
     "output_type": "display_data"
    }
   ],
   "source": [
    "# Plot amount of each transaction (TP vs. FN vs. TN)\n",
    "sns.set_palette('BuGn_r')\n",
    "fig6, ax = plt.subplots(1, 3, figsize=(15,5), sharey=True)\n",
    "plt.subplots_adjust(wspace=.3)\n",
    "\n",
    "for i, df in enumerate(df_list):\n",
    "    g = df.amount.hist(alpha=.8, ax=ax[i], density=True) #Normalized histogram\n",
    "    g.set_title(df_names[i].upper()+'-amount')\n",
    "    g.ticklabel_format(style = 'plain')\n",
    "    \n",
    "fig6.autofmt_xdate(rotation=45)\n",
    "plt.show()\n",
    "fig6.savefig('./Fig6.png', dpi=240)"
   ]
  },
  {
   "cell_type": "markdown",
   "metadata": {},
   "source": [
    "Note:<br>\n",
    "Amount distribution can be used to increase the detection rate since there is a difference in distribution when it's frauduelnt and when it's not."
   ]
  },
  {
   "cell_type": "markdown",
   "metadata": {},
   "source": [
    "### 2-3. Steps of transactions"
   ]
  },
  {
   "cell_type": "code",
   "execution_count": 22,
   "metadata": {
    "scrolled": true
   },
   "outputs": [
    {
     "data": {
      "image/png": "[encoded data removed]",
      "text/plain": [
       "<Figure size 1080x360 with 3 Axes>"
      ]
     },
     "metadata": {
      "needs_background": "light"
     },
     "output_type": "display_data"
    }
   ],
   "source": [
    "# Steps: a unit of time: 1 step is 1 hour of time. Total steps 744 (30 days simulation).\n",
    "sns.set_palette('RdBu_r')\n",
    "fig7, ax = plt.subplots(1, 3, figsize=(15,5), sharey=True)\n",
    "plt.subplots_adjust(wspace=.3)\n",
    "\n",
    "for i, df in enumerate(df_list):\n",
    "    g = df.step.hist(alpha=.8, ax=ax[i], density=True) #Normalized histogram\n",
    "    g.set_title(df_names[i])\n",
    "    \n",
    "fig7.autofmt_xdate(rotation=45)\n",
    "plt.show()\n",
    "fig7.savefig('./Fig7.png', dpi=240)"
   ]
  },
  {
   "cell_type": "markdown",
   "metadata": {},
   "source": [
    "Note: There are more fraudulent activities when step > 400. Unlike True_negatives, False_negatives were seen regularly over the steps without large variance."
   ]
  },
  {
   "cell_type": "markdown",
   "metadata": {},
   "source": [
    "### 2-4. Name of clients and recipients"
   ]
  },
  {
   "cell_type": "markdown",
   "metadata": {},
   "source": [
    "From de nameOrig and nameDest columns, the input that starts with 'C' is the Customer and if starts with 'M' is the Business.<br>\n",
    "So let's count the transactions by customer-recipient type: (CC,CB,BC,BB)"
   ]
  },
  {
   "cell_type": "code",
   "execution_count": 23,
   "metadata": {},
   "outputs": [],
   "source": [
    "# Adding feature validTransactionType to the new df\n",
    "paysim_new = paysim.copy()\n",
    "paysim_new[\"validTransactionType\"] = np.nan # Initializing new feature column"
   ]
  },
  {
   "cell_type": "code",
   "execution_count": 24,
   "metadata": {},
   "outputs": [
    {
     "data": {
      "text/html": [
       "<div>\n",
       "<style scoped>\n",
       "    .dataframe tbody tr th:only-of-type {\n",
       "        vertical-align: middle;\n",
       "    }\n",
       "\n",
       "    .dataframe tbody tr th {\n",
       "        vertical-align: top;\n",
       "    }\n",
       "\n",
       "    .dataframe thead th {\n",
       "        text-align: right;\n",
       "    }\n",
       "</style>\n",
       "<table border=\"1\" class=\"dataframe\">\n",
       "  <thead>\n",
       "    <tr style=\"text-align: right;\">\n",
       "      <th></th>\n",
       "      <th>step</th>\n",
       "      <th>type</th>\n",
       "      <th>amount</th>\n",
       "      <th>nameOrig</th>\n",
       "      <th>oldbalanceOrg</th>\n",
       "      <th>newbalanceOrig</th>\n",
       "      <th>nameDest</th>\n",
       "      <th>oldbalanceDest</th>\n",
       "      <th>newbalanceDest</th>\n",
       "      <th>isFraud</th>\n",
       "      <th>isFlaggedFraud</th>\n",
       "      <th>validTransactionType</th>\n",
       "    </tr>\n",
       "  </thead>\n",
       "  <tbody>\n",
       "    <tr>\n",
       "      <th>0</th>\n",
       "      <td>1</td>\n",
       "      <td>PAYMENT</td>\n",
       "      <td>9839.64</td>\n",
       "      <td>C1231006815</td>\n",
       "      <td>170136.0</td>\n",
       "      <td>160296.36</td>\n",
       "      <td>M1979787155</td>\n",
       "      <td>0.0</td>\n",
       "      <td>0.0</td>\n",
       "      <td>0</td>\n",
       "      <td>0</td>\n",
       "      <td>CB</td>\n",
       "    </tr>\n",
       "    <tr>\n",
       "      <th>1</th>\n",
       "      <td>1</td>\n",
       "      <td>PAYMENT</td>\n",
       "      <td>1864.28</td>\n",
       "      <td>C1666544295</td>\n",
       "      <td>21249.0</td>\n",
       "      <td>19384.72</td>\n",
       "      <td>M2044282225</td>\n",
       "      <td>0.0</td>\n",
       "      <td>0.0</td>\n",
       "      <td>0</td>\n",
       "      <td>0</td>\n",
       "      <td>CB</td>\n",
       "    </tr>\n",
       "    <tr>\n",
       "      <th>2</th>\n",
       "      <td>1</td>\n",
       "      <td>TRANSFER</td>\n",
       "      <td>181.00</td>\n",
       "      <td>C1305486145</td>\n",
       "      <td>181.0</td>\n",
       "      <td>0.00</td>\n",
       "      <td>C553264065</td>\n",
       "      <td>0.0</td>\n",
       "      <td>0.0</td>\n",
       "      <td>1</td>\n",
       "      <td>0</td>\n",
       "      <td>CC</td>\n",
       "    </tr>\n",
       "    <tr>\n",
       "      <th>3</th>\n",
       "      <td>1</td>\n",
       "      <td>CASH_OUT</td>\n",
       "      <td>181.00</td>\n",
       "      <td>C840083671</td>\n",
       "      <td>181.0</td>\n",
       "      <td>0.00</td>\n",
       "      <td>C38997010</td>\n",
       "      <td>21182.0</td>\n",
       "      <td>0.0</td>\n",
       "      <td>1</td>\n",
       "      <td>0</td>\n",
       "      <td>CC</td>\n",
       "    </tr>\n",
       "    <tr>\n",
       "      <th>4</th>\n",
       "      <td>1</td>\n",
       "      <td>PAYMENT</td>\n",
       "      <td>11668.14</td>\n",
       "      <td>C2048537720</td>\n",
       "      <td>41554.0</td>\n",
       "      <td>29885.86</td>\n",
       "      <td>M1230701703</td>\n",
       "      <td>0.0</td>\n",
       "      <td>0.0</td>\n",
       "      <td>0</td>\n",
       "      <td>0</td>\n",
       "      <td>CB</td>\n",
       "    </tr>\n",
       "  </tbody>\n",
       "</table>\n",
       "</div>"
      ],
      "text/plain": [
       "   step      type    amount     nameOrig  oldbalanceOrg  newbalanceOrig  \\\n",
       "0     1   PAYMENT   9839.64  C1231006815       170136.0       160296.36   \n",
       "1     1   PAYMENT   1864.28  C1666544295        21249.0        19384.72   \n",
       "2     1  TRANSFER    181.00  C1305486145          181.0            0.00   \n",
       "3     1  CASH_OUT    181.00   C840083671          181.0            0.00   \n",
       "4     1   PAYMENT  11668.14  C2048537720        41554.0        29885.86   \n",
       "\n",
       "      nameDest  oldbalanceDest  newbalanceDest  isFraud  isFlaggedFraud  \\\n",
       "0  M1979787155             0.0             0.0        0               0   \n",
       "1  M2044282225             0.0             0.0        0               0   \n",
       "2   C553264065             0.0             0.0        1               0   \n",
       "3    C38997010         21182.0             0.0        1               0   \n",
       "4  M1230701703             0.0             0.0        0               0   \n",
       "\n",
       "  validTransactionType  \n",
       "0                   CB  \n",
       "1                   CB  \n",
       "2                   CC  \n",
       "3                   CC  \n",
       "4                   CB  "
      ]
     },
     "execution_count": 24,
     "metadata": {},
     "output_type": "execute_result"
    }
   ],
   "source": [
    "# Filling feature column\n",
    "paysim_new.loc[paysim.nameOrig.str.startswith('C') & paysim.nameDest.str.startswith('C'),\"validTransactionType\"] = \"CC\" \n",
    "paysim_new.loc[paysim.nameOrig.str.startswith('C') & paysim.nameDest.str.startswith('M'),\"validTransactionType\"] = \"CB\"\n",
    "paysim_new.loc[paysim.nameOrig.str.startswith('M') & paysim.nameDest.str.startswith('C'),\"validTransactionType\"] = \"BC\"\n",
    "paysim_new.loc[paysim.nameOrig.str.startswith('M') & paysim.nameDest.str.startswith('M'),\"validTransactionType\"] = \"BB\"\n",
    "\n",
    "# Print out the result dataframe\n",
    "paysim_new.head()"
   ]
  },
  {
   "cell_type": "code",
   "execution_count": 25,
   "metadata": {},
   "outputs": [
    {
     "name": "stdout",
     "output_type": "stream",
     "text": [
      "Fraud transactions and customer-recipient type: \n",
      " CC    8213\n",
      "Name: validTransactionType, dtype: int64\n",
      "\n",
      "Valid transactions and customer-recipient type: \n",
      " CC    4202912\n",
      "CB    2151495\n",
      "Name: validTransactionType, dtype: int64\n"
     ]
    }
   ],
   "source": [
    "# 'is_fraud' mask created previously\n",
    "fraud_df = paysim_new[is_fraud]\n",
    "valid_df = paysim_new[~is_fraud]\n",
    "\n",
    "# The counts of transactions by customer-recipient type (CC,CB,BC,BB)\n",
    "print(\"Fraud transactions and customer-recipient type: \\n\",fraud_df.validTransactionType.value_counts())\n",
    "print()\n",
    "print(\"Valid transactions and customer-recipient type: \\n\",valid_df.validTransactionType.value_counts())"
   ]
  },
  {
   "cell_type": "markdown",
   "metadata": {},
   "source": [
    "Note: All fraud transactions were 'CC' type"
   ]
  },
  {
   "cell_type": "markdown",
   "metadata": {},
   "source": [
    "# 3. Final features and target"
   ]
  },
  {
   "cell_type": "code",
   "execution_count": 26,
   "metadata": {},
   "outputs": [
    {
     "name": "stdout",
     "output_type": "stream",
     "text": [
      "<class 'pandas.core.frame.DataFrame'>\n",
      "RangeIndex: 6362620 entries, 0 to 6362619\n",
      "Data columns (total 12 columns):\n",
      "step                    int64\n",
      "type                    object\n",
      "amount                  float64\n",
      "nameOrig                object\n",
      "oldbalanceOrg           float64\n",
      "newbalanceOrig          float64\n",
      "nameDest                object\n",
      "oldbalanceDest          float64\n",
      "newbalanceDest          float64\n",
      "isFraud                 int64\n",
      "isFlaggedFraud          int64\n",
      "validTransactionType    object\n",
      "dtypes: float64(5), int64(3), object(4)\n",
      "memory usage: 582.5+ MB\n"
     ]
    }
   ],
   "source": [
    "# Previously, we defined a new dataframe with some newly introduced features\n",
    "paysim_new.info()"
   ]
  },
  {
   "cell_type": "markdown",
   "metadata": {},
   "source": [
    "In the next step, we'll implement different machine learning algorithms to enhance the detection rate of fraud activity with this feature engineered dataset. Since our target is a binary column ('isFraud'), we're dealing with a classification problem.\n",
    "\n",
    "For our modeling, we'll export this dataframe as a csv file."
   ]
  },
  {
   "cell_type": "code",
   "execution_count": 27,
   "metadata": {},
   "outputs": [],
   "source": [
    "paysim_new.to_csv(\"../data/paysim_for_ML.csv\")"
   ]
  },
  {
   "cell_type": "code",
   "execution_count": null,
   "metadata": {},
   "outputs": [],
   "source": [
    "# Sanity check\n",
    "paysim_for_ML = pd.read_csv(\"../data/paysim_for_ML.csv\", index_col=0)\n",
    "\n",
    "print(paysim_for_ML.shape)\n",
    "paysim_for_ML.head()"
   ]
  },
  {
   "cell_type": "code",
   "execution_count": null,
   "metadata": {},
   "outputs": [],
   "source": []
  }
 ],
 "metadata": {
  "kernelspec": {
   "display_name": "Python 3.7.6 64-bit ('base': conda)",
   "language": "python",
   "name": "python37664bitbaseconda45c4735d229e4b89864933604f8dfee7"
  },
  "language_info": {
   "codemirror_mode": {
    "name": "ipython",
    "version": 3
   },
   "file_extension": ".py",
   "mimetype": "text/x-python",
   "name": "python",
   "nbconvert_exporter": "python",
   "pygments_lexer": "ipython3",
   "version": "3.7.6"
  }
 },
 "nbformat": 4,
 "nbformat_minor": 4
}
